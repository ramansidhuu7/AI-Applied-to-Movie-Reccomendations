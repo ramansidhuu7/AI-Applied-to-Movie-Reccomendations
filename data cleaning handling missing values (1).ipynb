{
 "cells": [
  {
   "cell_type": "code",
   "execution_count": 18,
   "id": "5c1e856d",
   "metadata": {},
   "outputs": [],
   "source": [
    "#importing necessery libraries\n",
    "import numpy as np\n",
    "import pandas as pd\n",
    "pd.set_option(\"display.max_columns\",None)# using pandas setting options to display maximum rows\n",
    "pd.set_option(\"display.max_rows\",None)\n",
    "pd.set_option(\"display.width\",500)\n",
    "pd.set_option(\"display.expand_frame_repr\",False)\n"
   ]
  },
  {
   "cell_type": "code",
   "execution_count": 19,
   "id": "ca2192f9",
   "metadata": {},
   "outputs": [
    {
     "name": "stderr",
     "output_type": "stream",
     "text": [
      "C:\\Users\\ASUS\\AppData\\Local\\Temp\\ipykernel_2748\\1641987460.py:1: DtypeWarning: Columns (10) have mixed types. Specify dtype option on import or set low_memory=False.\n",
      "  movies = pd.read_csv(r\"C:\\Users\\ASUS\\Desktop\\documents canada\\moviesmetadata.csv\")\n"
     ]
    }
   ],
   "source": [
    "movies = pd.read_csv(r\"C:\\Users\\ASUS\\Desktop\\documents canada\\moviesmetadata.csv\")\n",
    "ratings = pd.read_csv(r\"C:\\Users\\ASUS\\Desktop\\documents canada\\ratings.csv\")"
   ]
  },
  {
   "cell_type": "code",
   "execution_count": 16,
   "id": "d1d2f903",
   "metadata": {},
   "outputs": [
    {
     "name": "stdout",
     "output_type": "stream",
     "text": [
      "Index(['adult', 'belongs_to_collection', 'budget', 'genres', 'homepage', 'id', 'imdb_id', 'original_language', 'original_title', 'overview', 'popularity', 'poster_path', 'production_companies', 'production_countries', 'release_date', 'revenue', 'runtime', 'spoken_languages', 'status', 'tagline', 'title', 'video', 'vote_average', 'vote_count'], dtype='object')\n"
     ]
    },
    {
     "name": "stderr",
     "output_type": "stream",
     "text": [
      "IOPub data rate exceeded.\n",
      "The notebook server will temporarily stop sending output\n",
      "to the client in order to avoid crashing it.\n",
      "To change this limit, set the config variable\n",
      "`--NotebookApp.iopub_data_rate_limit`.\n",
      "\n",
      "Current values:\n",
      "NotebookApp.iopub_data_rate_limit=1000000.0 (bytes/sec)\n",
      "NotebookApp.rate_limit_window=3.0 (secs)\n",
      "\n"
     ]
    }
   ],
   "source": [
    "# Check column names\n",
    "print(movies.columns)\n",
    "\n",
    "# Display DataFrame\n",
    "print(movies)"
   ]
  },
  {
   "cell_type": "code",
   "execution_count": 21,
   "id": "18f6d7cf",
   "metadata": {},
   "outputs": [
    {
     "name": "stdout",
     "output_type": "stream",
     "text": [
      "Movies DataFrame Head:\n",
      "   adult                              belongs_to_collection    budget                                             genres                              homepage     id    imdb_id original_language               original_title                                           overview popularity                       poster_path                               production_companies                               production_countries release_date      revenue  runtime                                   spoken_languages    status                                            tagline                        title  video  vote_average  vote_count\n",
      "0  FALSE  {'id': 10194, 'name': 'Toy Story Collection', ...  30000000  [{'id': 16, 'name': 'Animation'}, {'id': 35, '...  http://toystory.disney.com/toy-story    862  tt0114709                en                    Toy Story  Led by Woody, Andy's toys live happily in his ...  21.946943  /rhIRbceoE9lR4veEXuwCC2wARtG.jpg     [{'name': 'Pixar Animation Studios', 'id': 3}]  [{'iso_3166_1': 'US', 'name': 'United States o...   1995-10-30  373554033.0     81.0           [{'iso_639_1': 'en', 'name': 'English'}]  Released                                                NaN                    Toy Story  False           7.7      5415.0\n",
      "1  FALSE                                                NaN  65000000  [{'id': 12, 'name': 'Adventure'}, {'id': 14, '...                                   NaN   8844  tt0113497                en                      Jumanji  When siblings Judy and Peter discover an encha...  17.015539  /vzmL6fP7aPKNKPRTFnZmiUfciyV.jpg  [{'name': 'TriStar Pictures', 'id': 559}, {'na...  [{'iso_3166_1': 'US', 'name': 'United States o...   1995-12-15  262797249.0    104.0  [{'iso_639_1': 'en', 'name': 'English'}, {'iso...  Released          Roll the dice and unleash the excitement!                      Jumanji  False           6.9      2413.0\n",
      "2  FALSE  {'id': 119050, 'name': 'Grumpy Old Men Collect...         0  [{'id': 10749, 'name': 'Romance'}, {'id': 35, ...                                   NaN  15602  tt0113228                en             Grumpier Old Men  A family wedding reignites the ancient feud be...    11.7129  /6ksm1sjKMFLbO7UY2i6G1ju9SML.jpg  [{'name': 'Warner Bros.', 'id': 6194}, {'name'...  [{'iso_3166_1': 'US', 'name': 'United States o...   1995-12-22          0.0    101.0           [{'iso_639_1': 'en', 'name': 'English'}]  Released  Still Yelling. Still Fighting. Still Ready for...             Grumpier Old Men  False           6.5        92.0\n",
      "3  FALSE                                                NaN  16000000  [{'id': 35, 'name': 'Comedy'}, {'id': 18, 'nam...                                   NaN  31357  tt0114885                en            Waiting to Exhale  Cheated on, mistreated and stepped on, the wom...   3.859495  /16XOMpEaLWkrcPqSQqhTmeJuqQl.jpg  [{'name': 'Twentieth Century Fox Film Corporat...  [{'iso_3166_1': 'US', 'name': 'United States o...   1995-12-22   81452156.0    127.0           [{'iso_639_1': 'en', 'name': 'English'}]  Released  Friends are the people who let you be yourself...            Waiting to Exhale  False           6.1        34.0\n",
      "4  FALSE  {'id': 96871, 'name': 'Father of the Bride Col...         0                     [{'id': 35, 'name': 'Comedy'}]                                   NaN  11862  tt0113041                en  Father of the Bride Part II  Just when George Banks has recovered from his ...   8.387519  /e64sOI48hQXyru7naBFyssKFxVd.jpg  [{'name': 'Sandollar Productions', 'id': 5842}...  [{'iso_3166_1': 'US', 'name': 'United States o...   1995-02-10   76578911.0    106.0           [{'iso_639_1': 'en', 'name': 'English'}]  Released  Just When His World Is Back To Normal... He's ...  Father of the Bride Part II  False           5.7       173.0\n",
      "\n",
      "Ratings DataFrame Head:\n",
      "   userId  movieId  rating   timestamp\n",
      "0       1      110     1.0  1425941529\n",
      "1       1      147     4.5  1425942435\n",
      "2       1      858     5.0  1425941523\n",
      "3       1     1221     5.0  1425941546\n",
      "4       1     1246     5.0  1425941556\n"
     ]
    }
   ],
   "source": [
    "# Step 1: Inspect the Data\n",
    "print(\"Movies DataFrame Head:\")\n",
    "print(movies.head())\n",
    "\n",
    "print(\"\\nRatings DataFrame Head:\")\n",
    "print(ratings.head())\n"
   ]
  },
  {
   "cell_type": "code",
   "execution_count": 20,
   "id": "e82ce4fe",
   "metadata": {},
   "outputs": [
    {
     "name": "stdout",
     "output_type": "stream",
     "text": [
      "Movies DataFrame Info:\n",
      "<class 'pandas.core.frame.DataFrame'>\n",
      "RangeIndex: 45466 entries, 0 to 45465\n",
      "Data columns (total 24 columns):\n",
      " #   Column                 Non-Null Count  Dtype  \n",
      "---  ------                 --------------  -----  \n",
      " 0   adult                  45466 non-null  object \n",
      " 1   belongs_to_collection  4494 non-null   object \n",
      " 2   budget                 45466 non-null  object \n",
      " 3   genres                 45466 non-null  object \n",
      " 4   homepage               7782 non-null   object \n",
      " 5   id                     45466 non-null  object \n",
      " 6   imdb_id                45449 non-null  object \n",
      " 7   original_language      45455 non-null  object \n",
      " 8   original_title         45466 non-null  object \n",
      " 9   overview               44512 non-null  object \n",
      " 10  popularity             45461 non-null  object \n",
      " 11  poster_path            45080 non-null  object \n",
      " 12  production_companies   45463 non-null  object \n",
      " 13  production_countries   45463 non-null  object \n",
      " 14  release_date           45379 non-null  object \n",
      " 15  revenue                45460 non-null  float64\n",
      " 16  runtime                45203 non-null  float64\n",
      " 17  spoken_languages       45460 non-null  object \n",
      " 18  status                 45379 non-null  object \n",
      " 19  tagline                20412 non-null  object \n",
      " 20  title                  45460 non-null  object \n",
      " 21  video                  45460 non-null  object \n",
      " 22  vote_average           45460 non-null  float64\n",
      " 23  vote_count             45460 non-null  float64\n",
      "dtypes: float64(4), object(20)\n",
      "memory usage: 8.3+ MB\n",
      "None\n",
      "\n",
      "Ratings DataFrame Info:\n",
      "<class 'pandas.core.frame.DataFrame'>\n",
      "RangeIndex: 26024289 entries, 0 to 26024288\n",
      "Data columns (total 4 columns):\n",
      " #   Column     Dtype  \n",
      "---  ------     -----  \n",
      " 0   userId     int64  \n",
      " 1   movieId    int64  \n",
      " 2   rating     float64\n",
      " 3   timestamp  int64  \n",
      "dtypes: float64(1), int64(3)\n",
      "memory usage: 794.2 MB\n",
      "None\n"
     ]
    }
   ],
   "source": [
    "# Display information about the movies DataFrame\n",
    "print(\"Movies DataFrame Info:\")\n",
    "print(movies.info())\n",
    "\n",
    "# Display information about the ratings DataFrame\n",
    "print(\"\\nRatings DataFrame Info:\")\n",
    "print(ratings.info())"
   ]
  },
  {
   "cell_type": "code",
   "execution_count": 22,
   "id": "20f2b5d4",
   "metadata": {},
   "outputs": [
    {
     "name": "stdout",
     "output_type": "stream",
     "text": [
      "\n",
      "Movies DataFrame Missing Values:\n",
      "adult                        0\n",
      "belongs_to_collection    40972\n",
      "budget                       0\n",
      "genres                       0\n",
      "homepage                 37684\n",
      "id                           0\n",
      "imdb_id                     17\n",
      "original_language           11\n",
      "original_title               0\n",
      "overview                   954\n",
      "popularity                   5\n",
      "poster_path                386\n",
      "production_companies         3\n",
      "production_countries         3\n",
      "release_date                87\n",
      "revenue                      6\n",
      "runtime                    263\n",
      "spoken_languages             6\n",
      "status                      87\n",
      "tagline                  25054\n",
      "title                        6\n",
      "video                        6\n",
      "vote_average                 6\n",
      "vote_count                   6\n",
      "dtype: int64\n",
      "\n",
      "Ratings DataFrame Missing Values:\n",
      "userId       0\n",
      "movieId      0\n",
      "rating       0\n",
      "timestamp    0\n",
      "dtype: int64\n"
     ]
    }
   ],
   "source": [
    "# Step 2: Handle Missing Values\n",
    "print(\"\\nMovies DataFrame Missing Values:\")\n",
    "print(movies.isnull().sum())\n",
    "\n",
    "print(\"\\nRatings DataFrame Missing Values:\")\n",
    "print(ratings.isnull().sum())"
   ]
  },
  {
   "cell_type": "code",
   "execution_count": 23,
   "id": "31c63aeb",
   "metadata": {},
   "outputs": [
    {
     "name": "stdout",
     "output_type": "stream",
     "text": [
      "Movies DataFrame after dropping columns with more than 100 missing values:\n",
      "   adult    budget                                             genres     id    imdb_id original_language               original_title popularity                               production_companies                               production_countries release_date      revenue                                   spoken_languages    status                        title  video  vote_average  vote_count\n",
      "0  FALSE  30000000  [{'id': 16, 'name': 'Animation'}, {'id': 35, '...    862  tt0114709                en                    Toy Story  21.946943     [{'name': 'Pixar Animation Studios', 'id': 3}]  [{'iso_3166_1': 'US', 'name': 'United States o...   1995-10-30  373554033.0           [{'iso_639_1': 'en', 'name': 'English'}]  Released                    Toy Story  False           7.7      5415.0\n",
      "1  FALSE  65000000  [{'id': 12, 'name': 'Adventure'}, {'id': 14, '...   8844  tt0113497                en                      Jumanji  17.015539  [{'name': 'TriStar Pictures', 'id': 559}, {'na...  [{'iso_3166_1': 'US', 'name': 'United States o...   1995-12-15  262797249.0  [{'iso_639_1': 'en', 'name': 'English'}, {'iso...  Released                      Jumanji  False           6.9      2413.0\n",
      "2  FALSE         0  [{'id': 10749, 'name': 'Romance'}, {'id': 35, ...  15602  tt0113228                en             Grumpier Old Men    11.7129  [{'name': 'Warner Bros.', 'id': 6194}, {'name'...  [{'iso_3166_1': 'US', 'name': 'United States o...   1995-12-22          0.0           [{'iso_639_1': 'en', 'name': 'English'}]  Released             Grumpier Old Men  False           6.5        92.0\n",
      "3  FALSE  16000000  [{'id': 35, 'name': 'Comedy'}, {'id': 18, 'nam...  31357  tt0114885                en            Waiting to Exhale   3.859495  [{'name': 'Twentieth Century Fox Film Corporat...  [{'iso_3166_1': 'US', 'name': 'United States o...   1995-12-22   81452156.0           [{'iso_639_1': 'en', 'name': 'English'}]  Released            Waiting to Exhale  False           6.1        34.0\n",
      "4  FALSE         0                     [{'id': 35, 'name': 'Comedy'}]  11862  tt0113041                en  Father of the Bride Part II   8.387519  [{'name': 'Sandollar Productions', 'id': 5842}...  [{'iso_3166_1': 'US', 'name': 'United States o...   1995-02-10   76578911.0           [{'iso_639_1': 'en', 'name': 'English'}]  Released  Father of the Bride Part II  False           5.7       173.0\n"
     ]
    }
   ],
   "source": [
    "# Drop columns with more than 100 missing values\n",
    "threshold = 100\n",
    "columns_to_drop = movies.columns[movies.isnull().sum() > threshold]\n",
    "movies_cleaned = movies.drop(columns=columns_to_drop)\n",
    "\n",
    "# Display the cleaned DataFrame\n",
    "print(\"Movies DataFrame after dropping columns with more than 100 missing values:\")\n",
    "print(movies_cleaned.head())"
   ]
  },
  {
   "cell_type": "code",
   "execution_count": 24,
   "id": "d0afe3cd",
   "metadata": {},
   "outputs": [
    {
     "name": "stdout",
     "output_type": "stream",
     "text": [
      "Missing values in movies_cleaned DataFrame:\n",
      "adult                    0\n",
      "budget                   0\n",
      "genres                   0\n",
      "id                       0\n",
      "imdb_id                 17\n",
      "original_language       11\n",
      "original_title           0\n",
      "popularity               5\n",
      "production_companies     3\n",
      "production_countries     3\n",
      "release_date            87\n",
      "revenue                  6\n",
      "spoken_languages         6\n",
      "status                  87\n",
      "title                    6\n",
      "video                    6\n",
      "vote_average             6\n",
      "vote_count               6\n",
      "dtype: int64\n"
     ]
    }
   ],
   "source": [
    "# Check for missing values in the cleaned DataFrame\n",
    "print(\"Missing values in movies_cleaned DataFrame:\")\n",
    "print(movies_cleaned.isnull().sum())"
   ]
  },
  {
   "cell_type": "code",
   "execution_count": 25,
   "id": "5866a2a1",
   "metadata": {},
   "outputs": [
    {
     "name": "stdout",
     "output_type": "stream",
     "text": [
      "Movies DataFrame after dropping rows with missing values:\n",
      "   adult    budget                                             genres     id    imdb_id original_language               original_title popularity                               production_companies                               production_countries release_date      revenue                                   spoken_languages    status                        title  video  vote_average  vote_count\n",
      "0  FALSE  30000000  [{'id': 16, 'name': 'Animation'}, {'id': 35, '...    862  tt0114709                en                    Toy Story  21.946943     [{'name': 'Pixar Animation Studios', 'id': 3}]  [{'iso_3166_1': 'US', 'name': 'United States o...   1995-10-30  373554033.0           [{'iso_639_1': 'en', 'name': 'English'}]  Released                    Toy Story  False           7.7      5415.0\n",
      "1  FALSE  65000000  [{'id': 12, 'name': 'Adventure'}, {'id': 14, '...   8844  tt0113497                en                      Jumanji  17.015539  [{'name': 'TriStar Pictures', 'id': 559}, {'na...  [{'iso_3166_1': 'US', 'name': 'United States o...   1995-12-15  262797249.0  [{'iso_639_1': 'en', 'name': 'English'}, {'iso...  Released                      Jumanji  False           6.9      2413.0\n",
      "2  FALSE         0  [{'id': 10749, 'name': 'Romance'}, {'id': 35, ...  15602  tt0113228                en             Grumpier Old Men    11.7129  [{'name': 'Warner Bros.', 'id': 6194}, {'name'...  [{'iso_3166_1': 'US', 'name': 'United States o...   1995-12-22          0.0           [{'iso_639_1': 'en', 'name': 'English'}]  Released             Grumpier Old Men  False           6.5        92.0\n",
      "3  FALSE  16000000  [{'id': 35, 'name': 'Comedy'}, {'id': 18, 'nam...  31357  tt0114885                en            Waiting to Exhale   3.859495  [{'name': 'Twentieth Century Fox Film Corporat...  [{'iso_3166_1': 'US', 'name': 'United States o...   1995-12-22   81452156.0           [{'iso_639_1': 'en', 'name': 'English'}]  Released            Waiting to Exhale  False           6.1        34.0\n",
      "4  FALSE         0                     [{'id': 35, 'name': 'Comedy'}]  11862  tt0113041                en  Father of the Bride Part II   8.387519  [{'name': 'Sandollar Productions', 'id': 5842}...  [{'iso_3166_1': 'US', 'name': 'United States o...   1995-02-10   76578911.0           [{'iso_639_1': 'en', 'name': 'English'}]  Released  Father of the Bride Part II  False           5.7       173.0\n"
     ]
    }
   ],
   "source": [
    "# Drop rows with any missing values\n",
    "movies_cleaned = movies_cleaned.dropna(axis=0)\n",
    "\n",
    "# Display the cleaned DataFrame\n",
    "print(\"Movies DataFrame after dropping rows with missing values:\")\n",
    "print(movies_cleaned.head())"
   ]
  },
  {
   "cell_type": "code",
   "execution_count": 26,
   "id": "d49452ae",
   "metadata": {},
   "outputs": [
    {
     "name": "stdout",
     "output_type": "stream",
     "text": [
      "Missing values in movies_cleaned DataFrame after dropping rows:\n",
      "adult                   0\n",
      "budget                  0\n",
      "genres                  0\n",
      "id                      0\n",
      "imdb_id                 0\n",
      "original_language       0\n",
      "original_title          0\n",
      "popularity              0\n",
      "production_companies    0\n",
      "production_countries    0\n",
      "release_date            0\n",
      "revenue                 0\n",
      "spoken_languages        0\n",
      "status                  0\n",
      "title                   0\n",
      "video                   0\n",
      "vote_average            0\n",
      "vote_count              0\n",
      "dtype: int64\n"
     ]
    }
   ],
   "source": [
    "# Check for missing values in the cleaned DataFrame\n",
    "print(\"Missing values in movies_cleaned DataFrame after dropping rows:\")\n",
    "print(movies_cleaned.isnull().sum())"
   ]
  },
  {
   "cell_type": "code",
   "execution_count": null,
   "id": "2cb4b602",
   "metadata": {},
   "outputs": [],
   "source": []
  }
 ],
 "metadata": {
  "kernelspec": {
   "display_name": "Python 3 (ipykernel)",
   "language": "python",
   "name": "python3"
  },
  "language_info": {
   "codemirror_mode": {
    "name": "ipython",
    "version": 3
   },
   "file_extension": ".py",
   "mimetype": "text/x-python",
   "name": "python",
   "nbconvert_exporter": "python",
   "pygments_lexer": "ipython3",
   "version": "3.11.4"
  }
 },
 "nbformat": 4,
 "nbformat_minor": 5
}
