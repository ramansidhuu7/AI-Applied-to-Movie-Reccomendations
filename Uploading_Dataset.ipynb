{
 "cells": [
  {
   "cell_type": "code",
   "execution_count": null,
   "id": "9b4f75dc",
   "metadata": {},
   "outputs": [],
   "source": [
    "#importing necessery libraries\n",
    "import numpy as np\n",
    "import pandas as pd\n",
    "pd.set_option(\"display.max_columns\",None)# using pandas setting options to display maximum rows\n",
    "pd.set_option(\"display.max_rows\",None)\n",
    "pd.set_option(\"display.width\",500)\n",
    "pd.set_option(\"display.expand_frame_repr\",False)\n"
   ]
  },
  {
   "cell_type": "code",
   "execution_count": null,
   "id": "5d919fd2",
   "metadata": {},
   "outputs": [],
   "source": [
    "# loading the dataset\n",
    "movies = pd.read_csv(r\"C:\\Users\\shuba\\Downloads\\moviesmetadata.csv\")\n",
    "ratings = pd.read_csv(r\"C:\\Users\\shuba\\Downloads\\ratings.csv\\ratings.csv\")"
   ]
  }
 ],
 "metadata": {
  "kernelspec": {
   "display_name": "Python 3 (ipykernel)",
   "language": "python",
   "name": "python3"
  },
  "language_info": {
   "codemirror_mode": {
    "name": "ipython",
    "version": 3
   },
   "file_extension": ".py",
   "mimetype": "text/x-python",
   "name": "python",
   "nbconvert_exporter": "python",
   "pygments_lexer": "ipython3",
   "version": "3.11.4"
  }
 },
 "nbformat": 4,
 "nbformat_minor": 5
}
